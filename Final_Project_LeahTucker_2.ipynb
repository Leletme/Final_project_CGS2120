{
  "nbformat": 4,
  "nbformat_minor": 0,
  "metadata": {
    "colab": {
      "provenance": [],
      "include_colab_link": true
    },
    "kernelspec": {
      "name": "python3",
      "display_name": "Python 3"
    },
    "language_info": {
      "name": "python"
    }
  },
  "cells": [
    {
      "cell_type": "markdown",
      "metadata": {
        "id": "view-in-github",
        "colab_type": "text"
      },
      "source": [
        "<a href=\"https://colab.research.google.com/github/Leletme/Final_project_CGS2120/blob/main/Final_Project_LeahTucker_2.ipynb\" target=\"_parent\"><img src=\"https://colab.research.google.com/assets/colab-badge.svg\" alt=\"Open In Colab\"/></a>"
      ]
    },
    {
      "cell_type": "code",
      "execution_count": null,
      "metadata": {
        "colab": {
          "base_uri": "https://localhost:8080/"
        },
        "id": "r83cpAzUztVX",
        "outputId": "a4282a79-d9cd-4c3e-e2af-0c7033a024e6"
      },
      "outputs": [
        {
          "output_type": "stream",
          "name": "stdout",
          "text": [
            "Total Words: 31\n",
            "Unique Words: {'it', 'science', 'simple', 'is', 'makes', 'web', 'a', 'and', 'good', 'machine', 'powerful', 'simplicity', 'development', 'among', 'language', 'great', 'learning', 'pythons', 'developers', 'data', 'for', 'python', 'favorite', 'programming', 'versatile'}\n",
            "Frequency Distribution: Counter({'is': 3, 'python': 2, 'a': 2, 'and': 2, 'it': 2, 'great': 1, 'programming': 1, 'language': 1, 'simple': 1, 'powerful': 1, 'versatile': 1, 'good': 1, 'for': 1, 'data': 1, 'science': 1, 'web': 1, 'development': 1, 'machine': 1, 'learning': 1, 'pythons': 1, 'simplicity': 1, 'makes': 1, 'favorite': 1, 'among': 1, 'developers': 1})\n",
            "Top 5 Most Common Words: [('is', 3), ('python', 2), ('a', 2), ('and', 2), ('it', 2)]\n",
            "Sentiment Analysis: Positive\n"
          ]
        }
      ],
      "source": [
        "import string\n",
        "from collections import Counter\n",
        "\n",
        "def clean_text(text):\n",
        "    \"\"\"Cleans the input text by removing punctuation and converting to lowercase.\n",
        "\n",
        "    Args:\n",
        "        text: The input text string.\n",
        "\n",
        "    Returns:\n",
        "        The cleaned text string.\n",
        "    \"\"\"\n",
        "    return text.lower().translate(str.maketrans(\"\", \"\", string.punctuation))\n",
        "\n",
        "def word_count(text):\n",
        "    \"\"\"Counts the total number of words in the given text.\n",
        "\n",
        "    Args:\n",
        "        text: The input text string.\n",
        "\n",
        "    Returns:\n",
        "        The total number of words in the text.\n",
        "    \"\"\"\n",
        "    return len(text.split())\n",
        "\n",
        "def unique_words(text):\n",
        "    \"\"\"Finds the set of unique words in the given text.\n",
        "\n",
        "    Args:\n",
        "        text: The input text string.\n",
        "\n",
        "    Returns:\n",
        "        A set containing the unique words.\n",
        "    \"\"\"\n",
        "    return set(text.split())\n",
        "\n",
        "def word_frequency(text):\n",
        "    \"\"\"Calculates the frequency of each word in the given text.\n",
        "\n",
        "    Args:\n",
        "        text: The input text string.\n",
        "\n",
        "    Returns:\n",
        "        A dictionary where keys are words and values are their frequencies.\n",
        "    \"\"\"\n",
        "    return Counter(text.split())\n",
        "\n",
        "def most_common_words(freq_dict, n):\n",
        "    \"\"\"Returns the n most common words and their frequencies.\n",
        "\n",
        "    Args:\n",
        "        freq_dict: A dictionary containing word frequencies.\n",
        "        n: The number of most common words to return.\n",
        "\n",
        "    Returns:\n",
        "        A list of tuples, where each tuple contains a word and its frequency.\n",
        "    \"\"\"\n",
        "    return freq_dict.most_common(n)\n",
        "\n",
        "def sentiment_analysis(text):\n",
        "    \"\"\"Performs basic sentiment analysis by comparing positive and negative words.\n",
        "\n",
        "    Args:\n",
        "        text: The input text string.\n",
        "\n",
        "    Returns:\n",
        "        \"Positive\", \"Negative\", or \"Neutral\" based on the sentiment.\n",
        "    \"\"\"\n",
        "    positive_words = {\"good\", \"happy\", \"excellent\", \"great\", \"fantastic\", \"positive\"}\n",
        "    negative_words = {\"bad\", \"sad\", \"terrible\", \"poor\", \"negative\"}\n",
        "    words = set(text.split())\n",
        "    positive_count = len(words & positive_words)\n",
        "    negative_count = len(words & negative_words)\n",
        "    if positive_count > negative_count:\n",
        "        return \"Positive\"\n",
        "    elif negative_count > positive_count:\n",
        "        return \"Negative\"\n",
        "    else:\n",
        "        return \"Neutral\"\n",
        "\n",
        "if __name__ == \"__main__\":\n",
        "    sample_text = \"\"\"\n",
        "    Python is a great programming language. Python is simple, powerful, and versatile.\n",
        "    It is good for data science, web development, and machine learning. Python's simplicity\n",
        "    makes it a favorite among developers.\n",
        "    \"\"\"\n",
        "    cleaned_text = clean_text(sample_text)\n",
        "    freq_dist = word_frequency(cleaned_text)\n",
        "\n",
        "    print(f\"Total Words: {word_count(cleaned_text)}\")\n",
        "    print(f\"Unique Words: {unique_words(cleaned_text)}\")\n",
        "    print(f\"Frequency Distribution: {freq_dist}\")\n",
        "    print(f\"Top 5 Most Common Words: {most_common_words(freq_dist, 5)}\")\n",
        "    print(f\"Sentiment Analysis: {sentiment_analysis(cleaned_text)}\")"
      ]
    }
  ]
}